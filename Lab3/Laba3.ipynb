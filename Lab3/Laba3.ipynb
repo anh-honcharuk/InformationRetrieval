{
  "nbformat": 4,
  "nbformat_minor": 0,
  "metadata": {
    "colab": {
      "provenance": []
    },
    "kernelspec": {
      "name": "python3",
      "display_name": "Python 3"
    },
    "language_info": {
      "name": "python"
    }
  },
  "cells": [
    {
      "cell_type": "markdown",
      "source": [
        "**Побудувати двословний індекс і координатний інвертований індекс по колекції документів.**\n",
        "\n",
        "**Реалізувати фразовий пошук та пошук з урахуванням відстані для кожного з них.**"
      ],
      "metadata": {
        "id": "18gdBjcNed6a"
      }
    },
    {
      "cell_type": "code",
      "source": [
        "import os\n",
        "from functools import reduce\n",
        "import codecs\n",
        "import re\n",
        "from itertools import islice"
      ],
      "metadata": {
        "id": "pxjr1O-jtKIL"
      },
      "execution_count": null,
      "outputs": []
    },
    {
      "cell_type": "code",
      "source": [
        "books = os.listdir('./books')\n",
        "books"
      ],
      "metadata": {
        "colab": {
          "base_uri": "https://localhost:8080/"
        },
        "id": "lESA2OrztKBq",
        "outputId": "f82d8453-10dc-4586-e162-cb8d2cdf3c9a"
      },
      "execution_count": null,
      "outputs": [
        {
          "output_type": "execute_result",
          "data": {
            "text/plain": [
              "['The White Company.txt',\n",
              " \"At the Earth's Core.txt\",\n",
              " \"Montezuma's Daughter.txt\",\n",
              " 'Gone with the Wind.txt',\n",
              " 'The House of the Seven Gables.txt',\n",
              " 'The Pathfinder, or The Inland Sea.txt',\n",
              " 'Oliver Twist.txt',\n",
              " 'Rob Roy.txt',\n",
              " 'Sister Carrie.txt',\n",
              " 'The Antiquary.txt',\n",
              " 'The Prairie.txt']"
            ]
          },
          "metadata": {},
          "execution_count": 2
        }
      ]
    },
    {
      "cell_type": "markdown",
      "source": [
        "# Двословний індекс\n"
      ],
      "metadata": {
        "id": "P9gsaZnzxhn5"
      }
    },
    {
      "cell_type": "code",
      "source": [
        "two_word = {} \n",
        "def set_two_word(doc_name, w):\n",
        "    for i in range(len(w)-1):\n",
        "        key = f'{w[i]} {w[i+1]}'\n",
        "        if key in two_word:\n",
        "            two_word[key].add(doc_name)\n",
        "        else:\n",
        "            two_word[key] = set([doc_name])"
      ],
      "metadata": {
        "id": "ICyldKNxtJ47"
      },
      "execution_count": null,
      "outputs": []
    },
    {
      "cell_type": "markdown",
      "source": [
        "# Координатний інвертований індекс \n"
      ],
      "metadata": {
        "id": "9cMfgBzwxsip"
      }
    },
    {
      "cell_type": "code",
      "source": [
        "inv = {}  \n",
        "def set_inverted_coordinate(doc_name, w):\n",
        "    for i in range(len(w)):\n",
        "        if w[i] in inv:\n",
        "            if doc_name in inv[w[i]]:\n",
        "                inv[w[i]][doc_name].add(i)\n",
        "            else:\n",
        "                inv[w[i]][doc_name] = set([i])\n",
        "        else:\n",
        "            inv[w[i]] = {doc_name: set([i])}"
      ],
      "metadata": {
        "id": "uHVuNmDGtJrO"
      },
      "execution_count": null,
      "outputs": []
    },
    {
      "cell_type": "code",
      "source": [
        "for b in books:\n",
        "    book_path = os.path.join('./books', b)\n",
        "    print(book_path)\n",
        "    with codecs.open(book_path, \"r\", \"utf_8_sig\") as fileObj:\n",
        "        text = fileObj.read()\n",
        "    w = re.findall(\"[a-z]+['-]?[a-z]+\", text.lower())\n",
        "    set_two_word(b, w)\n",
        "    set_inverted_coordinate(b, w)"
      ],
      "metadata": {
        "colab": {
          "base_uri": "https://localhost:8080/"
        },
        "id": "B1Oqtdgytiz6",
        "outputId": "f5518e4d-f55c-4b63-d7f2-078d6665bebe"
      },
      "execution_count": null,
      "outputs": [
        {
          "output_type": "stream",
          "name": "stdout",
          "text": [
            "./books/The White Company.txt\n",
            "./books/At the Earth's Core.txt\n",
            "./books/Montezuma's Daughter.txt\n",
            "./books/Gone with the Wind.txt\n",
            "./books/The House of the Seven Gables.txt\n",
            "./books/The Pathfinder, or The Inland Sea.txt\n",
            "./books/Oliver Twist.txt\n",
            "./books/Rob Roy.txt\n",
            "./books/Sister Carrie.txt\n",
            "./books/The Antiquary.txt\n",
            "./books/The Prairie.txt\n"
          ]
        }
      ]
    },
    {
      "cell_type": "code",
      "source": [
        "dict(islice(two_word.items(), 0, 3))"
      ],
      "metadata": {
        "colab": {
          "base_uri": "https://localhost:8080/"
        },
        "id": "BJdK_zZGuBjq",
        "outputId": "250456c9-9f1c-4643-b337-9960abda0d75"
      },
      "execution_count": null,
      "outputs": [
        {
          "output_type": "execute_result",
          "data": {
            "text/plain": [
              "{'chapter how': {'Oliver Twist.txt', 'The White Company.txt'},\n",
              " 'how the': {'Gone with the Wind.txt',\n",
              "  \"Montezuma's Daughter.txt\",\n",
              "  'Oliver Twist.txt',\n",
              "  'Rob Roy.txt',\n",
              "  'Sister Carrie.txt',\n",
              "  'The Antiquary.txt',\n",
              "  'The House of the Seven Gables.txt',\n",
              "  'The Pathfinder, or The Inland Sea.txt',\n",
              "  'The White Company.txt'},\n",
              " 'the black': {\"At the Earth's Core.txt\",\n",
              "  'Gone with the Wind.txt',\n",
              "  \"Montezuma's Daughter.txt\",\n",
              "  'Oliver Twist.txt',\n",
              "  'Rob Roy.txt',\n",
              "  'The Antiquary.txt',\n",
              "  'The House of the Seven Gables.txt',\n",
              "  'The Pathfinder, or The Inland Sea.txt',\n",
              "  'The Prairie.txt',\n",
              "  'The White Company.txt'}}"
            ]
          },
          "metadata": {},
          "execution_count": 6
        }
      ]
    },
    {
      "cell_type": "code",
      "source": [
        "dict(islice(inv.items(), 100, 102))"
      ],
      "metadata": {
        "colab": {
          "base_uri": "https://localhost:8080/"
        },
        "id": "zz3irO2VuCWZ",
        "outputId": "38f49fa7-bc49-40b2-8fe8-b643f7a488a3"
      },
      "execution_count": null,
      "outputs": [
        {
          "output_type": "execute_result",
          "data": {
            "text/plain": [
              "{'marl': {'The White Company.txt': {154}},\n",
              " 'pits': {'The White Company.txt': {155},\n",
              "  \"At the Earth's Core.txt\": {16075, 29872, 29906, 30246, 31443},\n",
              "  'Gone with the Wind.txt': {36450,\n",
              "   36651,\n",
              "   39527,\n",
              "   115173,\n",
              "   116481,\n",
              "   119080,\n",
              "   119165,\n",
              "   119208,\n",
              "   119246,\n",
              "   119259,\n",
              "   123220,\n",
              "   123610,\n",
              "   123909,\n",
              "   125653,\n",
              "   128399,\n",
              "   128668,\n",
              "   129761,\n",
              "   130612,\n",
              "   133587},\n",
              "  'Oliver Twist.txt': {53282},\n",
              "  'The Antiquary.txt': {59415}}}"
            ]
          },
          "metadata": {},
          "execution_count": 7
        }
      ]
    },
    {
      "cell_type": "code",
      "source": [
        "def search_in_two_word(two_word, text):\n",
        "    w = text.split()\n",
        "    res = []\n",
        "    for i in range(len(w)-1):\n",
        "        key = f'{w[i]} {w[i+1]}'\n",
        "        res.append(two_word[key])\n",
        "    return reduce(lambda x,y: x&y, res)"
      ],
      "metadata": {
        "id": "PPBvGdcntioS"
      },
      "execution_count": null,
      "outputs": []
    },
    {
      "cell_type": "code",
      "source": [
        "search_in_two_word(two_word, 'among other public')"
      ],
      "metadata": {
        "colab": {
          "base_uri": "https://localhost:8080/"
        },
        "id": "eS4hBd_Kx8PM",
        "outputId": "ae52b1cb-858f-439c-d742-64f060b5dc8b"
      },
      "execution_count": null,
      "outputs": [
        {
          "output_type": "execute_result",
          "data": {
            "text/plain": [
              "{'Oliver Twist.txt'}"
            ]
          },
          "metadata": {},
          "execution_count": 9
        }
      ]
    },
    {
      "cell_type": "code",
      "source": [
        "search_in_two_word(two_word, 'had to come home')"
      ],
      "metadata": {
        "colab": {
          "base_uri": "https://localhost:8080/"
        },
        "id": "U8qWGPnvx7-O",
        "outputId": "65eb581f-b2d3-4ee7-87ce-62cd4574cbb5"
      },
      "execution_count": null,
      "outputs": [
        {
          "output_type": "execute_result",
          "data": {
            "text/plain": [
              "{'Gone with the Wind.txt',\n",
              " \"Montezuma's Daughter.txt\",\n",
              " 'Oliver Twist.txt',\n",
              " 'Sister Carrie.txt',\n",
              " 'The White Company.txt'}"
            ]
          },
          "metadata": {},
          "execution_count": 16
        }
      ]
    },
    {
      "cell_type": "markdown",
      "source": [
        "----------------"
      ],
      "metadata": {
        "id": "vLtJ7m5T1AzW"
      }
    },
    {
      "cell_type": "code",
      "source": [
        "def search_in_inverted(inv, text, distance=1):\n",
        "    w = text.split()\n",
        "    res = []\n",
        "    documents = reduce(lambda x,y: x&y, [set(inv[n]) for n in w])\n",
        "    for d in documents:\n",
        "        found = True\n",
        "        for i in range(len(w)-1):\n",
        "            for coord in inv[w[i]][d]: \n",
        "                distances = set(coord+dist for dist in range(1, distance+1))\n",
        "                if distances & inv[w[i+1]][d]:\n",
        "                    break \n",
        "            else:  \n",
        "                found = False\n",
        "                break  \n",
        "        if found:\n",
        "            res.append(d)\n",
        "    return res"
      ],
      "metadata": {
        "id": "oGZVtth4tiac"
      },
      "execution_count": null,
      "outputs": []
    },
    {
      "cell_type": "code",
      "source": [
        "search_in_inverted(inv, 'door which led to her own apartment')"
      ],
      "metadata": {
        "colab": {
          "base_uri": "https://localhost:8080/"
        },
        "id": "WwZHgSzYsUmS",
        "outputId": "9fc9b72d-1ad4-4fda-ba69-da5a8bf6cfb9"
      },
      "execution_count": null,
      "outputs": [
        {
          "output_type": "execute_result",
          "data": {
            "text/plain": [
              "['The Antiquary.txt', 'Rob Roy.txt']"
            ]
          },
          "metadata": {},
          "execution_count": 12
        }
      ]
    },
    {
      "cell_type": "code",
      "source": [
        "search_in_inverted(inv, 'which led apartment', distance=5)"
      ],
      "metadata": {
        "colab": {
          "base_uri": "https://localhost:8080/"
        },
        "id": "9eBoqG2lsnX1",
        "outputId": "f4e77efa-1612-4625-d0e2-7c3cc740f89e"
      },
      "execution_count": null,
      "outputs": [
        {
          "output_type": "execute_result",
          "data": {
            "text/plain": [
              "['Oliver Twist.txt', 'The Antiquary.txt', 'Rob Roy.txt']"
            ]
          },
          "metadata": {},
          "execution_count": 13
        }
      ]
    }
  ]
}