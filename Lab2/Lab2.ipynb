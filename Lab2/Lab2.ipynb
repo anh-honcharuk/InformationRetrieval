{
  "cells": [
    {
      "cell_type": "code",
      "execution_count": 1,
      "metadata": {
        "id": "XyUwYy5Lpf_x"
      },
      "outputs": [],
      "source": [
        "import codecs\n",
        "import re\n",
        "import os\n",
        "import pickle\n",
        "\n",
        "inverts_index = {}\n",
        "bookz = os.listdir('./books') \n",
        "l = len(bookz)\n",
        "matrix = []\n",
        "terms = []\n",
        "\n",
        "for b in bookz:\n",
        "  file_ = open(os.path.join('./books', b), \"r\")\n",
        "  f = file_.read()\n",
        "  w = re.findall(\"[a-z]+[-']?[a-z]+\", f.lower())\n",
        "  file_.close()\n",
        "  for el in w:\n",
        "    if el not in inverts_index:\n",
        "      inverts_index[el] = [b]\n",
        "    else:\n",
        "      inverts_index[el].append(b)\n",
        "    inverts_index[el] = [*set(inverts_index[el])]\n",
        "    \n",
        "    if el not in terms:\n",
        "      terms.append(el)\n",
        "      zeros = [0] * l\n",
        "      zeros[bookz.index(b)] = 1\n",
        "      matrix.append(zeros)\n",
        "    else:\n",
        "      matrix[terms.index(el)][bookz.index(b)] = 1"
      ]
    },
    {
      "cell_type": "code",
      "execution_count": null,
      "metadata": {
        "colab": {
          "base_uri": "https://localhost:8080/"
        },
        "id": "KyBKZGuXgEuM",
        "outputId": "6729c640-9894-43c4-a5ec-515b75bc675c"
      },
      "outputs": [],
      "source": [
        "import sys\n",
        "print('Size of inverts index:   ', sys.getsizeof(inverts_index))\n",
        "print('Size of incidence matrix: ', sys.getsizeof(matrix + terms + bookz))"
      ]
    },
    {
      "cell_type": "code",
      "execution_count": null,
      "metadata": {
        "colab": {
          "base_uri": "https://localhost:8080/"
        },
        "id": "M81XkW1vvK03",
        "outputId": "55ac0b60-8743-4b70-d018-d95904444b10"
      },
      "outputs": [],
      "source": [
        "i = 0\n",
        "for key, value in inverts_index.items():\n",
        "  i += 1\n",
        "  print(key,': ', value)\n",
        "  if i == 400:\n",
        "    break"
      ]
    },
    {
      "cell_type": "code",
      "execution_count": 4,
      "metadata": {
        "colab": {
          "base_uri": "https://localhost:8080/"
        },
        "id": "R6F6uT4VhbGP",
        "outputId": "bd7d1ef1-1749-471e-a976-8f19548286ad"
      },
      "outputs": [
        {
          "name": "stdout",
          "output_type": "stream",
          "text": [
            "\t\tThe Pathfinder, or The Inland Sea.txt  |Rob Roy.txt                            |Sister Carrie.txt                      |The House of the Seven Gables.txt      |Montezuma's Daughter.txt               |The White Company.txt                  |At the Earth's Core.txt                |The Prairie.txt                        |Gone with the Wind.txt                 |The Antiquary.txt                      |The Last of the Mohicans - A narrative of 1757.txt  |Oliver Twist.txt                       |\n",
            "chapter \t1 \t\t\t\t\t1 \t\t\t\t\t1 \t\t\t\t\t1 \t\t\t\t\t1 \t\t\t\t\t1 \t\t\t\t\t1 \t\t\t\t\t1 \t\t\t\t\t1 \t\t\t\t\t1 \t\t\t\t\t1 \t\t\t\t\t1 \t\t\t\t\t\n",
            "the \t\t1 \t\t\t\t\t1 \t\t\t\t\t1 \t\t\t\t\t1 \t\t\t\t\t1 \t\t\t\t\t1 \t\t\t\t\t1 \t\t\t\t\t1 \t\t\t\t\t1 \t\t\t\t\t1 \t\t\t\t\t1 \t\t\t\t\t1 \t\t\t\t\t\n",
            "turf \t\t1 \t\t\t\t\t1 \t\t\t\t\t0 \t\t\t\t\t0 \t\t\t\t\t1 \t\t\t\t\t1 \t\t\t\t\t0 \t\t\t\t\t0 \t\t\t\t\t1 \t\t\t\t\t1 \t\t\t\t\t1 \t\t\t\t\t1 \t\t\t\t\t\n",
            "shall \t\t1 \t\t\t\t\t1 \t\t\t\t\t1 \t\t\t\t\t1 \t\t\t\t\t1 \t\t\t\t\t1 \t\t\t\t\t1 \t\t\t\t\t1 \t\t\t\t\t1 \t\t\t\t\t1 \t\t\t\t\t1 \t\t\t\t\t1 \t\t\t\t\t\n",
            "be \t\t1 \t\t\t\t\t1 \t\t\t\t\t1 \t\t\t\t\t1 \t\t\t\t\t1 \t\t\t\t\t1 \t\t\t\t\t1 \t\t\t\t\t1 \t\t\t\t\t1 \t\t\t\t\t1 \t\t\t\t\t1 \t\t\t\t\t1 \t\t\t\t\t\n",
            "my \t\t1 \t\t\t\t\t1 \t\t\t\t\t1 \t\t\t\t\t1 \t\t\t\t\t1 \t\t\t\t\t1 \t\t\t\t\t1 \t\t\t\t\t1 \t\t\t\t\t1 \t\t\t\t\t1 \t\t\t\t\t1 \t\t\t\t\t1 \t\t\t\t\t\n",
            "fragrant \t1 \t\t\t\t\t1 \t\t\t\t\t0 \t\t\t\t\t1 \t\t\t\t\t0 \t\t\t\t\t0 \t\t\t\t\t0 \t\t\t\t\t0 \t\t\t\t\t1 \t\t\t\t\t0 \t\t\t\t\t1 \t\t\t\t\t0 \t\t\t\t\t\n",
            "shrine \t\t1 \t\t\t\t\t1 \t\t\t\t\t1 \t\t\t\t\t1 \t\t\t\t\t1 \t\t\t\t\t1 \t\t\t\t\t0 \t\t\t\t\t1 \t\t\t\t\t1 \t\t\t\t\t1 \t\t\t\t\t0 \t\t\t\t\t0 \t\t\t\t\t\n",
            "temple \t\t1 \t\t\t\t\t1 \t\t\t\t\t1 \t\t\t\t\t1 \t\t\t\t\t1 \t\t\t\t\t1 \t\t\t\t\t1 \t\t\t\t\t0 \t\t\t\t\t1 \t\t\t\t\t1 \t\t\t\t\t1 \t\t\t\t\t1 \t\t\t\t\t\n",
            "lord \t\t1 \t\t\t\t\t1 \t\t\t\t\t1 \t\t\t\t\t1 \t\t\t\t\t1 \t\t\t\t\t1 \t\t\t\t\t1 \t\t\t\t\t1 \t\t\t\t\t1 \t\t\t\t\t1 \t\t\t\t\t1 \t\t\t\t\t1 \t\t\t\t\t\n"
          ]
        }
      ],
      "source": [
        "i = 0\n",
        "print('\\t\\t', end='', flush=True) \n",
        "for b in bookz:\n",
        "  m = ' ' * (37-len(b))\n",
        "  print(b,m,'|', end='', flush=True) \n",
        "print()\n",
        "\n",
        "for index, value in enumerate(matrix):\n",
        "  i += 1\n",
        "  if len(terms[index]) >= 7:\n",
        "    print(terms[index],'\\t', end='', flush=True)\n",
        "    \n",
        "  else:\n",
        "    print(terms[index],'\\t\\t', end='', flush=True)\n",
        "  for k in value:\n",
        "    print(k,'\\t\\t\\t\\t\\t', end='', flush=True)\n",
        "  print()\n",
        "  if i == 10:\n",
        "    break"
      ]
    },
    {
      "cell_type": "code",
      "execution_count": 5,
      "metadata": {
        "id": "n6JtpfWbfLj1"
      },
      "outputs": [],
      "source": [
        "query = 'chapter AND NOT turf OR fragrant'\n",
        "comands = ['NOT', 'AND', 'OR']\n",
        "query = query.split()"
      ]
    },
    {
      "cell_type": "code",
      "execution_count": 6,
      "metadata": {
        "colab": {
          "base_uri": "https://localhost:8080/"
        },
        "id": "2BtOi36MKe-9",
        "outputId": "ca8d8233-7d7c-42ea-f0dd-3aa2742d291f"
      },
      "outputs": [
        {
          "name": "stdout",
          "output_type": "stream",
          "text": [
            "[1, 1, 1, 1, 0, 0, 1, 1, 1, 0, 1, 0]\n",
            "The Pathfinder, or The Inland Sea.txt\n",
            "Rob Roy.txt\n",
            "Sister Carrie.txt\n",
            "The House of the Seven Gables.txt\n",
            "At the Earth's Core.txt\n",
            "The Prairie.txt\n",
            "Gone with the Wind.txt\n",
            "The Last of the Mohicans - A narrative of 1757.txt\n"
          ]
        }
      ],
      "source": [
        "result = ''\n",
        "curr = ''\n",
        "\n",
        "def fOR(a,b):\n",
        "  if a == 1:\n",
        "    return 1\n",
        "  elif b == 1:\n",
        "    return 1\n",
        "  else:\n",
        "    return 0\n",
        "\n",
        "def fAND(a,b):\n",
        "  if a == 1 and b == 1:\n",
        "    return 1\n",
        "  else:\n",
        "    return 0   \n",
        "\n",
        "for index, item in enumerate(query):\n",
        "  if item not in comands:\n",
        "    curr = matrix[terms.index(item)]\n",
        "    if index != 0:\n",
        "      if query[index-1] == 'NOT':\n",
        "        curr = [(x+1)%2 for x in curr]\n",
        "      if result == '':\n",
        "        result = curr\n",
        "      if query[index-1] == 'AND' or (query[index-2] == 'AND' and query[index-1] == 'NOT'):\n",
        "        result = [fAND(result[x],curr[x]) for x in range(l)]\n",
        "      if query[index-1] == 'OR' or (query[index-2] == 'OR' and query[index-1] == 'NOT'):\n",
        "        result = [fOR(result[x],curr[x]) for x in range(l)]\n",
        "\n",
        "print(result)\n",
        "\n",
        "for index, b in enumerate(bookz):\n",
        "  if result[index] == 1:\n",
        "    print(b)"
      ]
    },
    {
      "cell_type": "code",
      "execution_count": 7,
      "metadata": {
        "colab": {
          "base_uri": "https://localhost:8080/"
        },
        "id": "9ItKpXiSXCli",
        "outputId": "b1926e47-5dfe-4ea1-8020-a295afea6212"
      },
      "outputs": [
        {
          "name": "stdout",
          "output_type": "stream",
          "text": [
            "The Last of the Mohicans - A narrative of 1757.txt\n",
            "At the Earth's Core.txt\n",
            "Sister Carrie.txt\n",
            "The Prairie.txt\n",
            "The House of the Seven Gables.txt\n",
            "The Pathfinder, or The Inland Sea.txt\n",
            "Rob Roy.txt\n",
            "Gone with the Wind.txt\n"
          ]
        }
      ],
      "source": [
        "result = ''\n",
        "curr = ''\n",
        "\n",
        "for index, item in enumerate(query):\n",
        "  if item not in comands:\n",
        "    curr = inverts_index[item]\n",
        "    if index != 0:\n",
        "      if query[index-1] == 'NOT':\n",
        "        c = []\n",
        "        for b in bookz:\n",
        "          if b not in curr:\n",
        "            c.append(b)\n",
        "        curr = c\n",
        "\n",
        "      if result == '':\n",
        "        result = curr\n",
        "\n",
        "      if query[index-1] == 'AND' or (query[index-2] == 'AND' and query[index-1] == 'NOT'):\n",
        "        c = []\n",
        "        for b in result:\n",
        "          if b in curr:\n",
        "            c.append(b)\n",
        "        result = c\n",
        "\n",
        "      if query[index-1] == 'OR' or (query[index-2] == 'OR' and query[index-1] == 'NOT'):\n",
        "        result = list(set(result+curr))\n",
        "\n",
        "for b in result:\n",
        "    print(b)"
      ]
    }
  ],
  "metadata": {
    "colab": {
      "collapsed_sections": [],
      "provenance": []
    },
    "kernelspec": {
      "display_name": "Python 3",
      "name": "python3"
    },
    "language_info": {
      "name": "python"
    }
  },
  "nbformat": 4,
  "nbformat_minor": 0
}
